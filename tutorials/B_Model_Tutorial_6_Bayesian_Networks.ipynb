{
 "cells": [
  {
   "cell_type": "markdown",
   "id": "a44a9073",
   "metadata": {},
   "source": [
    "## Bayesian Networks"
   ]
  },
  {
   "cell_type": "markdown",
   "id": "14ce3241",
   "metadata": {},
   "source": [
    "author: Jacob Schreiber <br>\n",
    "contact: jmschreiber91@gmail.com\n",
    "\n",
    "Bayesian networks are a general-purpose probabilistic model that are a superset of all others presented in pomegranate. Specifically, Bayesian networks are a way of factorizing a joint probability distribution across a graph structure, where the presence of an edge represents a directed dependency between two variables and the lack of an edge represents a conditional independence. Importantly, the lack of an edge does not represent true independence of two variables by itself, but a conditional independence."
   ]
  },
  {
   "cell_type": "code",
   "execution_count": 1,
   "id": "1b6e4ad5",
   "metadata": {},
   "outputs": [
    {
     "name": "stdout",
     "output_type": "stream",
     "text": [
      "Populating the interactive namespace from numpy and matplotlib\n",
      "torch        : 1.13.1\n",
      "torchegranate: 0.3.2\n",
      "\n",
      "Compiler    : GCC 11.2.0\n",
      "OS          : Linux\n",
      "Release     : 4.15.0-142-generic\n",
      "Machine     : x86_64\n",
      "Processor   : x86_64\n",
      "CPU cores   : 4\n",
      "Architecture: 64bit\n",
      "\n"
     ]
    }
   ],
   "source": [
    "%pylab inline\n",
    "import seaborn; seaborn.set_style('whitegrid')\n",
    "import torch\n",
    "\n",
    "%load_ext watermark\n",
    "%watermark -m -n -p torch,torchegranate"
   ]
  },
  {
   "cell_type": "markdown",
   "id": "fc74c689",
   "metadata": {},
   "source": [
    "### Initialization and Fitting\n",
    "\n",
    "Similar to the hidden Markov model, the Bayesian network is comprised of a set of distributions and a graph structure connecting them. In this case, the graph is just a series of directed unweighted edges. Most Bayesian networks require that this graph is acyclic. However, becase pomegranate uses a factor graph to do inference, there is no strict requirement that this is the case. See the inference sections below.\n",
    "\n",
    "Likewise, similar to the other models in pomegranate, a Bayesian network can be learned in its entirety from data. However, exact structure learning is intractable and so the field has developed a variety of approximations. See the Bayesian network structure learning tutorial for more.\n",
    "\n",
    "For now, let's implement the simplest Bayesian network: a child and a parent."
   ]
  },
  {
   "cell_type": "code",
   "execution_count": 2,
   "id": "ee0487b9",
   "metadata": {},
   "outputs": [],
   "source": [
    "from torchegranate.distributions import Categorical\n",
    "from torchegranate.distributions import ConditionalCategorical\n",
    "from torchegranate.bayesian_network import BayesianNetwork\n",
    "\n",
    "d1 = Categorical([[0.1, 0.9]])\n",
    "d2 = ConditionalCategorical([[[0.4, 0.6], [0.3, 0.7]]])\n",
    "\n",
    "model = BayesianNetwork([d1, d2], [(d1, d2)])"
   ]
  },
  {
   "cell_type": "markdown",
   "id": "51b582aa",
   "metadata": {},
   "source": [
    "Alternatively, one can use the `add_distributions` and `add_edge` method to create the network programmatically."
   ]
  },
  {
   "cell_type": "code",
   "execution_count": 3,
   "id": "39494b12",
   "metadata": {},
   "outputs": [],
   "source": [
    "model2 = BayesianNetwork()\n",
    "model2.add_distributions([d1, d2])\n",
    "model2.add_edge(d1, d2)"
   ]
  },
  {
   "cell_type": "markdown",
   "id": "a0ad8a0c",
   "metadata": {},
   "source": [
    "Once these models are initialized with a structue, they can be fit to data."
   ]
  },
  {
   "cell_type": "code",
   "execution_count": 4,
   "id": "94cc3184",
   "metadata": {},
   "outputs": [
    {
     "data": {
      "text/plain": [
       "array([[0, 1],\n",
       "       [0, 0],\n",
       "       [1, 0],\n",
       "       [0, 1],\n",
       "       [1, 1],\n",
       "       [0, 1],\n",
       "       [1, 1],\n",
       "       [0, 0],\n",
       "       [1, 1],\n",
       "       [0, 1]])"
      ]
     },
     "execution_count": 4,
     "metadata": {},
     "output_type": "execute_result"
    }
   ],
   "source": [
    "X = numpy.random.randint(2, size=(10, 2))\n",
    "X"
   ]
  },
  {
   "cell_type": "code",
   "execution_count": 5,
   "id": "2d0bba9b",
   "metadata": {},
   "outputs": [
    {
     "data": {
      "text/plain": [
       "BayesianNetwork(\n",
       "  (distributions): ModuleList(\n",
       "    (0): Categorical()\n",
       "    (1): ConditionalCategorical(\n",
       "      (probs): ParameterList(  (0): Parameter containing: [torch.float32 of size 2x2])\n",
       "      (_w_sum): [tensor([0., 0.])]\n",
       "      (_xw_sum): [tensor([[0., 0.],\n",
       "              [0., 0.]])]\n",
       "      (_log_probs): [tensor([[-1.0986, -0.4055],\n",
       "              [-1.3863, -0.2877]])]\n",
       "    )\n",
       "  )\n",
       "  (_factor_graph): FactorGraph(\n",
       "    (factors): ModuleList(\n",
       "      (0): Categorical()\n",
       "      (1): JointCategorical()\n",
       "    )\n",
       "    (marginals): ModuleList(\n",
       "      (0): Categorical()\n",
       "      (1): Categorical()\n",
       "    )\n",
       "  )\n",
       ")"
      ]
     },
     "execution_count": 5,
     "metadata": {},
     "output_type": "execute_result"
    }
   ],
   "source": [
    "model.fit(X)"
   ]
  },
  {
   "cell_type": "markdown",
   "id": "328bcb71",
   "metadata": {},
   "source": [
    "Next, we can check that the learned parameters are correct."
   ]
  },
  {
   "cell_type": "code",
   "execution_count": 6,
   "id": "4a4d34bd",
   "metadata": {},
   "outputs": [
    {
     "data": {
      "text/plain": [
       "(Parameter containing:\n",
       " tensor([[0.6000, 0.4000]]),\n",
       " 0.4)"
      ]
     },
     "execution_count": 6,
     "metadata": {},
     "output_type": "execute_result"
    }
   ],
   "source": [
    "model.distributions[0].probs, X[:,0].mean()"
   ]
  },
  {
   "cell_type": "markdown",
   "id": "8cc48140",
   "metadata": {},
   "source": [
    "Looks like the model learned a marginal distribution where the probability of 1 is equal to the mean value, which is correct.\n",
    "\n",
    "We can also look at the conditional probability table and compare against the probability that the second column is 1 (by taking the mean) when the first column is 0."
   ]
  },
  {
   "cell_type": "code",
   "execution_count": 7,
   "id": "4f32e05e",
   "metadata": {},
   "outputs": [
    {
     "data": {
      "text/plain": [
       "(Parameter containing:\n",
       " tensor([[0.3333, 0.6667],\n",
       "         [0.2500, 0.7500]]),\n",
       " 0.6666666666666666)"
      ]
     },
     "execution_count": 7,
     "metadata": {},
     "output_type": "execute_result"
    }
   ],
   "source": [
    "model.distributions[1].probs[0], (X[X[:,0] == 0][:,1]).mean()"
   ]
  },
  {
   "cell_type": "markdown",
   "id": "5b4c1d7c",
   "metadata": {},
   "source": [
    "Also looks correct.\n",
    "\n",
    "Finally, if we know the structure of the Bayesian network that we'd like to learn but don't know the parameters of the tables, we can pass the structure into the initialization and call the fit function."
   ]
  },
  {
   "cell_type": "code",
   "execution_count": 8,
   "id": "72ed676e",
   "metadata": {},
   "outputs": [
    {
     "data": {
      "text/plain": [
       "Parameter containing:\n",
       "tensor([[0.3333, 0.6667],\n",
       "        [0.2500, 0.7500]])"
      ]
     },
     "execution_count": 8,
     "metadata": {},
     "output_type": "execute_result"
    }
   ],
   "source": [
    "model3 = BayesianNetwork(structure=[(), (0,)])\n",
    "model3.fit(X)\n",
    "\n",
    "model3.distributions[1].probs[0]"
   ]
  },
  {
   "cell_type": "markdown",
   "id": "0e9fae78",
   "metadata": {},
   "source": [
    "### Probabilities and Log Probabilities"
   ]
  },
  {
   "cell_type": "markdown",
   "id": "67163cab",
   "metadata": {},
   "source": [
    "Much like other generative models, Bayesian networks can calculate the probabilities of examples given the distributions and graph structure. Because the Bayesian network is just a factorization of the joint probability table along the graph structure, the probability of an example is just the product of the probability of each variable given its parents."
   ]
  },
  {
   "cell_type": "code",
   "execution_count": 9,
   "id": "d122a19c",
   "metadata": {},
   "outputs": [
    {
     "data": {
      "text/plain": [
       "tensor([0.4000, 0.2000, 0.1000, 0.4000, 0.3000, 0.4000, 0.3000, 0.2000, 0.3000,\n",
       "        0.4000])"
      ]
     },
     "execution_count": 9,
     "metadata": {},
     "output_type": "execute_result"
    }
   ],
   "source": [
    "model.probability(X)"
   ]
  },
  {
   "cell_type": "code",
   "execution_count": 10,
   "id": "5c38c8fa",
   "metadata": {},
   "outputs": [
    {
     "data": {
      "text/plain": [
       "tensor([-0.9163, -1.6094, -2.3026, -0.9163, -1.2040, -0.9163, -1.2040, -1.6094,\n",
       "        -1.2040, -0.9163])"
      ]
     },
     "execution_count": 10,
     "metadata": {},
     "output_type": "execute_result"
    }
   ],
   "source": [
    "model.log_probability(X)"
   ]
  },
  {
   "cell_type": "code",
   "execution_count": 11,
   "id": "c9ff8acb",
   "metadata": {},
   "outputs": [
    {
     "data": {
      "text/plain": [
       "tensor([-0.9163, -1.6094, -2.3026, -0.9163, -1.2040, -0.9163, -1.2040, -1.6094,\n",
       "        -1.2040, -0.9163])"
      ]
     },
     "execution_count": 11,
     "metadata": {},
     "output_type": "execute_result"
    }
   ],
   "source": [
    "model.distributions[0].log_probability(X[:,:1]) + model.distributions[1].log_probability(X[:, :, None])"
   ]
  },
  {
   "cell_type": "markdown",
   "id": "40e7863d",
   "metadata": {},
   "source": [
    "Similarly to other models in pomegranate, the inputs can be lists, numpy arrays, or torch tensors."
   ]
  },
  {
   "cell_type": "markdown",
   "id": "ed1ed550",
   "metadata": {},
   "source": [
    "### Prediction\n",
    "\n",
    "Perhaps the most useful application of a learned Bayesian network is the ability to do inference for missing values. Rather than a traditional prediction problem, which has a fixed set of inputs and one or more fixed outputs, Bayesian network inference will use any variables whose values are known to infer any variables whose values are not known. The set of known variables can change across examples, and so do not need to be known in advance.\n",
    "\n",
    "In pomegranate, this is done using the loopy belief propogation algorithm, sometimes also called the \"sum-product\" algorithm. This algorithm is run on a factor graph, which is constructed in the backend. The trade-offs for this, versus normal junction-tree inference, are that the algorithm is faster, easier to implement, exact for tree-like Bayesian networks, and can provide estimates even for cyclic networks, but that the inference is not guaranteed to be exact in other cases or even to converge when the network is cyclic.\n",
    "\n",
    "The implementation of the prediction methods differs slightly from other models in pomegranate. First, the unobserved variables are indicated using a `torch.masked.MaskedTensor` object, which holds the underlying data and a mask where `True` means the value is observed and `False` means that it is not observed. When the mask is `False`, it does not matter what the underlying value is. "
   ]
  },
  {
   "cell_type": "code",
   "execution_count": 12,
   "id": "09d83981",
   "metadata": {},
   "outputs": [
    {
     "name": "stderr",
     "output_type": "stream",
     "text": [
      "/home/jmschr/anaconda3/lib/python3.9/site-packages/torch/masked/maskedtensor/core.py:156: UserWarning: The PyTorch API of MaskedTensors is in prototype stage and will change in the near future. Please open a Github issue for features requests and see our documentation on the torch.masked module for further information about the project.\n",
      "  warnings.warn((\"The PyTorch API of MaskedTensors is in prototype stage \"\n"
     ]
    }
   ],
   "source": [
    "X_torch = torch.tensor(X[:4])\n",
    "mask = torch.tensor([[True, False],\n",
    "                     [False, True],\n",
    "                     [True, True],\n",
    "                     [False, False]])\n",
    "\n",
    "X_masked = torch.masked.MaskedTensor(X_torch, mask=mask)"
   ]
  },
  {
   "cell_type": "markdown",
   "id": "8f31835e",
   "metadata": {},
   "source": [
    "If you have already set values in your tensor to some missing value, such as -1, you can easily just do `torch.masked.MaskedTensor(X, mask=(X != -1))`.\n",
    "\n",
    "Once you've created your `MaskedTensor` you can pass it into the `predict`, `predict_proba`, or `predict_log_proba` methods of your Bayesian network. As a note, when data is provided, those values will appear in the output with a probability of 1. Probability distributions are only provided for unobserved variables."
   ]
  },
  {
   "cell_type": "code",
   "execution_count": 13,
   "id": "3f9a8d54",
   "metadata": {},
   "outputs": [
    {
     "data": {
      "text/plain": [
       "[tensor([[1.0000, 0.0000],\n",
       "         [0.6667, 0.3333],\n",
       "         [0.0000, 1.0000],\n",
       "         [0.6000, 0.4000]]),\n",
       " tensor([[0.4000, 0.6000],\n",
       "         [1.0000, 0.0000],\n",
       "         [1.0000, 0.0000],\n",
       "         [0.3600, 0.6400]])]"
      ]
     },
     "execution_count": 13,
     "metadata": {},
     "output_type": "execute_result"
    }
   ],
   "source": [
    "model.predict_proba(X_masked)"
   ]
  },
  {
   "cell_type": "markdown",
   "id": "69c03439",
   "metadata": {},
   "source": [
    "You might notice that the output from these functions is a different shape than other methods. Because there is no guarantee that the variables all have the same number of categories, pomegranate cannot return a single tensor where one of the dimensions is the number of categories. Instead, pomegranate chooses to return a list of tensors, where each element in the list is one variable and the tensor has the dimensions `(n_examples, n_categories)` for the number of categories for that dimension. In principle, one could return a single tensor of size `(n_examples, n_dimensions, max_n_categories)` where `max_n_categories` is the maximum number of categories across all dimensions, but one would likely choose to slice the unneccesary categories out anyway, and there is no guarantee that a single variable with a large number of categories wouldn't come along and massively increase the amount of needed memory. "
   ]
  },
  {
   "cell_type": "code",
   "execution_count": 14,
   "id": "e214351f",
   "metadata": {},
   "outputs": [
    {
     "data": {
      "text/plain": [
       "[tensor([[ 0.0000,    -inf],\n",
       "         [-0.4055, -1.0986],\n",
       "         [   -inf,  0.0000],\n",
       "         [-0.5108, -0.9163]]),\n",
       " tensor([[-0.9163, -0.5108],\n",
       "         [ 0.0000,    -inf],\n",
       "         [ 0.0000,    -inf],\n",
       "         [-1.0217, -0.4463]])]"
      ]
     },
     "execution_count": 14,
     "metadata": {},
     "output_type": "execute_result"
    }
   ],
   "source": [
    "model.predict_log_proba(X_masked)"
   ]
  },
  {
   "cell_type": "markdown",
   "id": "e0d0d976",
   "metadata": {},
   "source": [
    "Unlike the previous two methods, the `predict` method will preserve the shape of the original data but replace the missing values, according to the mask, with the maximally likely value from the `predict_proba` method."
   ]
  },
  {
   "cell_type": "code",
   "execution_count": 15,
   "id": "9eccf44f",
   "metadata": {},
   "outputs": [
    {
     "data": {
      "text/plain": [
       "tensor([[0, 1],\n",
       "        [0, 0],\n",
       "        [1, 0],\n",
       "        [0, 1]])"
      ]
     },
     "execution_count": 15,
     "metadata": {},
     "output_type": "execute_result"
    }
   ],
   "source": [
    "model.predict(X_masked)"
   ]
  },
  {
   "cell_type": "markdown",
   "id": "87ecf843",
   "metadata": {},
   "source": [
    "### Summarization"
   ]
  },
  {
   "cell_type": "markdown",
   "id": "ba843259",
   "metadata": {},
   "source": [
    "Summarization for Bayesian networks works entirely the same way as summarization for other models. When given complete data, summary statistics are derived using MLE that can be added together across batches. This means that Bayesian networks can be learned in an out-of-core manner."
   ]
  },
  {
   "cell_type": "code",
   "execution_count": 16,
   "id": "274a11f8",
   "metadata": {},
   "outputs": [],
   "source": [
    "model = BayesianNetwork(structure=((), (0)))\n",
    "model.summarize(X[:2])\n",
    "model.summarize(X[2:])\n",
    "model.from_summaries()"
   ]
  },
  {
   "cell_type": "code",
   "execution_count": 17,
   "id": "29901f53",
   "metadata": {},
   "outputs": [
    {
     "ename": "IndexError",
     "evalue": "index 0 is out of range",
     "output_type": "error",
     "traceback": [
      "\u001b[0;31m---------------------------------------------------------------------------\u001b[0m",
      "\u001b[0;31mIndexError\u001b[0m                                Traceback (most recent call last)",
      "\u001b[0;32m/tmp/ipykernel_124621/2529700241.py\u001b[0m in \u001b[0;36m<module>\u001b[0;34m\u001b[0m\n\u001b[0;32m----> 1\u001b[0;31m \u001b[0mmodel\u001b[0m\u001b[0;34m.\u001b[0m\u001b[0mdistributions\u001b[0m\u001b[0;34m[\u001b[0m\u001b[0;36m0\u001b[0m\u001b[0;34m]\u001b[0m\u001b[0;34m\u001b[0m\u001b[0;34m\u001b[0m\u001b[0m\n\u001b[0m",
      "\u001b[0;32m~/anaconda3/lib/python3.9/site-packages/torch/nn/modules/container.py\u001b[0m in \u001b[0;36m__getitem__\u001b[0;34m(self, idx)\u001b[0m\n\u001b[1;32m    280\u001b[0m             \u001b[0;32mreturn\u001b[0m \u001b[0mself\u001b[0m\u001b[0;34m.\u001b[0m\u001b[0m__class__\u001b[0m\u001b[0;34m(\u001b[0m\u001b[0mlist\u001b[0m\u001b[0;34m(\u001b[0m\u001b[0mself\u001b[0m\u001b[0;34m.\u001b[0m\u001b[0m_modules\u001b[0m\u001b[0;34m.\u001b[0m\u001b[0mvalues\u001b[0m\u001b[0;34m(\u001b[0m\u001b[0;34m)\u001b[0m\u001b[0;34m)\u001b[0m\u001b[0;34m[\u001b[0m\u001b[0midx\u001b[0m\u001b[0;34m]\u001b[0m\u001b[0;34m)\u001b[0m\u001b[0;34m\u001b[0m\u001b[0;34m\u001b[0m\u001b[0m\n\u001b[1;32m    281\u001b[0m         \u001b[0;32melse\u001b[0m\u001b[0;34m:\u001b[0m\u001b[0;34m\u001b[0m\u001b[0;34m\u001b[0m\u001b[0m\n\u001b[0;32m--> 282\u001b[0;31m             \u001b[0;32mreturn\u001b[0m \u001b[0mself\u001b[0m\u001b[0;34m.\u001b[0m\u001b[0m_modules\u001b[0m\u001b[0;34m[\u001b[0m\u001b[0mself\u001b[0m\u001b[0;34m.\u001b[0m\u001b[0m_get_abs_string_index\u001b[0m\u001b[0;34m(\u001b[0m\u001b[0midx\u001b[0m\u001b[0;34m)\u001b[0m\u001b[0;34m]\u001b[0m\u001b[0;34m\u001b[0m\u001b[0;34m\u001b[0m\u001b[0m\n\u001b[0m\u001b[1;32m    283\u001b[0m \u001b[0;34m\u001b[0m\u001b[0m\n\u001b[1;32m    284\u001b[0m     \u001b[0;32mdef\u001b[0m \u001b[0m__setitem__\u001b[0m\u001b[0;34m(\u001b[0m\u001b[0mself\u001b[0m\u001b[0;34m,\u001b[0m \u001b[0midx\u001b[0m\u001b[0;34m:\u001b[0m \u001b[0mint\u001b[0m\u001b[0;34m,\u001b[0m \u001b[0mmodule\u001b[0m\u001b[0;34m:\u001b[0m \u001b[0mModule\u001b[0m\u001b[0;34m)\u001b[0m \u001b[0;34m->\u001b[0m \u001b[0;32mNone\u001b[0m\u001b[0;34m:\u001b[0m\u001b[0;34m\u001b[0m\u001b[0;34m\u001b[0m\u001b[0m\n",
      "\u001b[0;32m~/anaconda3/lib/python3.9/site-packages/torch/nn/modules/container.py\u001b[0m in \u001b[0;36m_get_abs_string_index\u001b[0;34m(self, idx)\u001b[0m\n\u001b[1;32m    270\u001b[0m         \u001b[0midx\u001b[0m \u001b[0;34m=\u001b[0m \u001b[0moperator\u001b[0m\u001b[0;34m.\u001b[0m\u001b[0mindex\u001b[0m\u001b[0;34m(\u001b[0m\u001b[0midx\u001b[0m\u001b[0;34m)\u001b[0m\u001b[0;34m\u001b[0m\u001b[0;34m\u001b[0m\u001b[0m\n\u001b[1;32m    271\u001b[0m         \u001b[0;32mif\u001b[0m \u001b[0;32mnot\u001b[0m \u001b[0;34m(\u001b[0m\u001b[0;34m-\u001b[0m\u001b[0mlen\u001b[0m\u001b[0;34m(\u001b[0m\u001b[0mself\u001b[0m\u001b[0;34m)\u001b[0m \u001b[0;34m<=\u001b[0m \u001b[0midx\u001b[0m \u001b[0;34m<\u001b[0m \u001b[0mlen\u001b[0m\u001b[0;34m(\u001b[0m\u001b[0mself\u001b[0m\u001b[0;34m)\u001b[0m\u001b[0;34m)\u001b[0m\u001b[0;34m:\u001b[0m\u001b[0;34m\u001b[0m\u001b[0;34m\u001b[0m\u001b[0m\n\u001b[0;32m--> 272\u001b[0;31m             \u001b[0;32mraise\u001b[0m \u001b[0mIndexError\u001b[0m\u001b[0;34m(\u001b[0m\u001b[0;34m'index {} is out of range'\u001b[0m\u001b[0;34m.\u001b[0m\u001b[0mformat\u001b[0m\u001b[0;34m(\u001b[0m\u001b[0midx\u001b[0m\u001b[0;34m)\u001b[0m\u001b[0;34m)\u001b[0m\u001b[0;34m\u001b[0m\u001b[0;34m\u001b[0m\u001b[0m\n\u001b[0m\u001b[1;32m    273\u001b[0m         \u001b[0;32mif\u001b[0m \u001b[0midx\u001b[0m \u001b[0;34m<\u001b[0m \u001b[0;36m0\u001b[0m\u001b[0;34m:\u001b[0m\u001b[0;34m\u001b[0m\u001b[0;34m\u001b[0m\u001b[0m\n\u001b[1;32m    274\u001b[0m             \u001b[0midx\u001b[0m \u001b[0;34m+=\u001b[0m \u001b[0mlen\u001b[0m\u001b[0;34m(\u001b[0m\u001b[0mself\u001b[0m\u001b[0;34m)\u001b[0m\u001b[0;34m\u001b[0m\u001b[0;34m\u001b[0m\u001b[0m\n",
      "\u001b[0;31mIndexError\u001b[0m: index 0 is out of range"
     ]
    }
   ],
   "source": [
    "model.distributions[0]"
   ]
  },
  {
   "cell_type": "code",
   "execution_count": null,
   "id": "32d18a0d",
   "metadata": {},
   "outputs": [],
   "source": []
  }
 ],
 "metadata": {
  "kernelspec": {
   "display_name": "Python 3 (ipykernel)",
   "language": "python",
   "name": "python3"
  },
  "language_info": {
   "codemirror_mode": {
    "name": "ipython",
    "version": 3
   },
   "file_extension": ".py",
   "mimetype": "text/x-python",
   "name": "python",
   "nbconvert_exporter": "python",
   "pygments_lexer": "ipython3",
   "version": "3.9.13"
  }
 },
 "nbformat": 4,
 "nbformat_minor": 5
}
